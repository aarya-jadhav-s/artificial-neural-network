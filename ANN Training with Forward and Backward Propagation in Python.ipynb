{
 "cells": [
  {
   "cell_type": "code",
   "execution_count": 1,
   "id": "52872d60-a32c-48f7-bb50-9d92b1d135ba",
   "metadata": {},
   "outputs": [
    {
     "name": "stdout",
     "output_type": "stream",
     "text": [
      "Predicted digit: 2\n"
     ]
    }
   ],
   "source": [
    "import numpy as np\n",
    "from sklearn.neural_network import MLPClassifier\n",
    "\n",
    "# Define 5x3 representations for digits 0, 1, 2, 3\n",
    "digits = {\n",
    "    0: [\n",
    "        [1, 1, 1],\n",
    "        [1, 0, 1],\n",
    "        [1, 0, 1],\n",
    "        [1, 0, 1],\n",
    "        [1, 1, 1]\n",
    "    ],\n",
    "    1: [\n",
    "        [0, 1, 0],\n",
    "        [1, 1, 0],\n",
    "        [0, 1, 0],\n",
    "        [0, 1, 0],\n",
    "        [1, 1, 1]\n",
    "    ],\n",
    "    2: [\n",
    "        [1, 1, 1],\n",
    "        [0, 0, 1],\n",
    "        [1, 1, 1],\n",
    "        [1, 0, 0],\n",
    "        [1, 1, 1]\n",
    "    ],\n",
    "    3: [\n",
    "        [1, 1, 1],\n",
    "        [0, 0, 1],\n",
    "        [0, 1, 1],\n",
    "        [0, 0, 1],\n",
    "        [1, 1, 1]\n",
    "    ]\n",
    "}\n",
    "\n",
    "# Prepare training data\n",
    "X = []\n",
    "y = []\n",
    "\n",
    "for label, matrix in digits.items():\n",
    "    flattened = np.array(matrix).flatten()\n",
    "    X.append(flattened)\n",
    "    y.append(label)\n",
    "\n",
    "# Train neural network\n",
    "clf = MLPClassifier(hidden_layer_sizes=(10,), max_iter=1000, random_state=42)\n",
    "clf.fit(X, y)\n",
    "\n",
    "# Test with a slightly noisy '2'\n",
    "test_digit = [\n",
    "    [1, 1, 1],\n",
    "    [0, 0, 1],\n",
    "    [1, 1, 1],\n",
    "    [1, 0, 0],\n",
    "    [1, 1, 1]\n",
    "]\n",
    "test_input = np.array(test_digit).flatten().reshape(1, -1)\n",
    "\n",
    "predicted = clf.predict(test_input)[0]\n",
    "print(\"Predicted digit:\", predicted)\n"
   ]
  },
  {
   "cell_type": "code",
   "execution_count": null,
   "id": "90bdb8f2-a4a5-4d7d-80c9-9bbd507e792c",
   "metadata": {},
   "outputs": [],
   "source": []
  }
 ],
 "metadata": {
  "kernelspec": {
   "display_name": "Python 3 (ipykernel)",
   "language": "python",
   "name": "python3"
  },
  "language_info": {
   "codemirror_mode": {
    "name": "ipython",
    "version": 3
   },
   "file_extension": ".py",
   "mimetype": "text/x-python",
   "name": "python",
   "nbconvert_exporter": "python",
   "pygments_lexer": "ipython3",
   "version": "3.12.4"
  }
 },
 "nbformat": 4,
 "nbformat_minor": 5
}
