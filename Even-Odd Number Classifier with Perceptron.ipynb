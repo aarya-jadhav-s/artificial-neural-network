{
 "cells": [
  {
   "cell_type": "code",
   "execution_count": 3,
   "id": "08429545-1146-4581-8e80-99a1519c955b",
   "metadata": {},
   "outputs": [
    {
     "name": "stdin",
     "output_type": "stream",
     "text": [
      "Enter a Number (0-9):  45\n"
     ]
    },
    {
     "name": "stdout",
     "output_type": "stream",
     "text": [
      "45  is  odd\n"
     ]
    }
   ],
   "source": [
    "import numpy as np\n",
    "\n",
    "j = int(input(\"Enter a Number (0-9): \"))\n",
    "step_function = lambda x: 1 if x >= 0 else 0\n",
    "\n",
    "training_data = [\n",
    "    {'input': [1, 1, 0, 0, 0, 0], 'label': 1},\n",
    "    {'input': [1, 1, 0, 0, 0, 1], 'label': 0},\n",
    "    {'input': [1, 1, 0, 0, 1, 0], 'label': 1},\n",
    "    {'input': [1, 1, 0, 1, 1, 1], 'label': 0},\n",
    "    {'input': [1, 1, 0, 1, 0, 0], 'label': 1},\n",
    "    {'input': [1, 1, 0, 1, 0, 1], 'label': 0},\n",
    "    {'input': [1, 1, 0, 1, 1, 0], 'label': 1},\n",
    "    {'input': [1, 1, 0, 1, 1, 1], 'label': 0},\n",
    "    {'input': [1, 1, 1, 0, 0, 0], 'label': 1},\n",
    "    {'input': [1, 1, 1, 0, 0, 1], 'label': 0},\n",
    "]\n",
    "\n",
    "weights = np.array([0, 0, 0, 0, 0, 1])\n",
    "\n",
    "for data in training_data:\n",
    "    input = np.array(data['input'])\n",
    "    label = data['label']\n",
    "    output = step_function(np.dot(input, weights))\n",
    "    error = label - output\n",
    "    weights += input * error\n",
    "\n",
    "input = np.array([int(x) for x in list('{0:06b}'.format(j))])\n",
    "output = \"odd\" if step_function(np.dot(input, weights)) == 0 else \"even\"\n",
    "print(j, \" is \", output)\n"
   ]
  },
  {
   "cell_type": "code",
   "execution_count": null,
   "id": "74f2e252-e8b2-4303-b4ec-23d0934f371f",
   "metadata": {},
   "outputs": [],
   "source": []
  }
 ],
 "metadata": {
  "kernelspec": {
   "display_name": "Python 3 (ipykernel)",
   "language": "python",
   "name": "python3"
  },
  "language_info": {
   "codemirror_mode": {
    "name": "ipython",
    "version": 3
   },
   "file_extension": ".py",
   "mimetype": "text/x-python",
   "name": "python",
   "nbconvert_exporter": "python",
   "pygments_lexer": "ipython3",
   "version": "3.12.4"
  }
 },
 "nbformat": 4,
 "nbformat_minor": 5
}
