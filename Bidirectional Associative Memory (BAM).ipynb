{
 "cells": [
  {
   "cell_type": "code",
   "execution_count": 1,
   "id": "b7b02ceb-c74d-4c8e-9da4-56c1d1dfe43e",
   "metadata": {},
   "outputs": [
    {
     "name": "stdout",
     "output_type": "stream",
     "text": [
      "Input x: [ 1 -1 -1 -1]\n",
      "Output y: [ 1 -1]\n"
     ]
    }
   ],
   "source": [
    "import numpy as np\n",
    "X = np.array([[1, 1, 1, -1], [-1, -1, 1, 1]])\n",
    "Y = np.array([[1, -1], [-1, 1]])\n",
    "W = np.dot(Y.T, X)\n",
    "\n",
    "def bam(x):\n",
    "    return np.sign(np.dot(W, x))\n",
    "\n",
    "x_test = np.array([1, -1, -1, -1])\n",
    "y_test = bam(x_test)\n",
    "\n",
    "\n",
    "print(\"Input x:\", x_test)\n",
    "print(\"Output y:\", y_test)"
   ]
  },
  {
   "cell_type": "code",
   "execution_count": null,
   "id": "6874a942-50c9-4e45-ab3c-7a664d312443",
   "metadata": {},
   "outputs": [],
   "source": []
  }
 ],
 "metadata": {
  "kernelspec": {
   "display_name": "Python 3 (ipykernel)",
   "language": "python",
   "name": "python3"
  },
  "language_info": {
   "codemirror_mode": {
    "name": "ipython",
    "version": 3
   },
   "file_extension": ".py",
   "mimetype": "text/x-python",
   "name": "python",
   "nbconvert_exporter": "python",
   "pygments_lexer": "ipython3",
   "version": "3.12.4"
  }
 },
 "nbformat": 4,
 "nbformat_minor": 5
}
